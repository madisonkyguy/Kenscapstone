{
 "cells": [
  {
   "cell_type": "markdown",
   "metadata": {},
   "source": [
    "The code below is the start of my capstone project"
   ]
  },
  {
   "cell_type": "markdown",
   "metadata": {},
   "source": [
    "The data I am using is from the CNBC Website https://www.cnbc.com/2025/02/14/cnbcs-official-nba-team-valuations-2025.html and https://www.cnbc.com/2024/09/05/official-nfl-team-valuations-2024.html"
   ]
  },
  {
   "cell_type": "code",
   "execution_count": null,
   "metadata": {},
   "outputs": [
    {
     "name": "stdout",
     "output_type": "stream",
     "text": [
      "Requirement already satisfied: pandas in c:\\users\\kcoll\\appdata\\local\\programs\\python\\python313\\lib\\site-packages (2.2.3)\n",
      "Requirement already satisfied: numpy>=1.26.0 in c:\\users\\kcoll\\appdata\\local\\programs\\python\\python313\\lib\\site-packages (from pandas) (2.1.3)\n",
      "Requirement already satisfied: python-dateutil>=2.8.2 in c:\\users\\kcoll\\appdata\\local\\programs\\python\\python313\\lib\\site-packages (from pandas) (2.9.0.post0)\n",
      "Requirement already satisfied: pytz>=2020.1 in c:\\users\\kcoll\\appdata\\local\\programs\\python\\python313\\lib\\site-packages (from pandas) (2024.2)\n",
      "Requirement already satisfied: tzdata>=2022.7 in c:\\users\\kcoll\\appdata\\local\\programs\\python\\python313\\lib\\site-packages (from pandas) (2024.2)\n",
      "Requirement already satisfied: six>=1.5 in c:\\users\\kcoll\\appdata\\local\\programs\\python\\python313\\lib\\site-packages (from python-dateutil>=2.8.2->pandas) (1.16.0)\n",
      "Note: you may need to restart the kernel to use updated packages.\n"
     ]
    },
    {
     "name": "stderr",
     "output_type": "stream",
     "text": [
      "\n",
      "[notice] A new release of pip is available: 24.3.1 -> 25.0.1\n",
      "[notice] To update, run: python.exe -m pip install --upgrade pip\n"
     ]
    }
   ],
   "source": [
    "pip install pandas\n"
   ]
  },
  {
   "cell_type": "code",
   "execution_count": null,
   "metadata": {},
   "outputs": [
    {
     "name": "stdout",
     "output_type": "stream",
     "text": [
      "   Rank                   Team  Value Revenue EBITDA Debt as % of Value  \\\n",
      "0     1  Golden State Warriors  $9.4B   $781M  $155M                 9%   \n",
      "1     2        New York Knicks  $7.5B   $578M  $178M                 4%   \n",
      "2     3     Los Angeles Lakers    $7B   $528M  $191M                 3%   \n",
      "3     4          Chicago Bulls  $5.8B   $402M  $118M                 3%   \n",
      "4     5        Houston Rockets  $5.7B   $402M  $119M                 4%   \n",
      "\n",
      "                                            Owner(s)  \n",
      "0                             Joe Lacob, Peter Guber  \n",
      "1                       Madison Square Garden Sports  \n",
      "2  Jerry Buss family trust, Mark Walter, Todd Boehly  \n",
      "3                                    Jerry Reinsdorf  \n",
      "4                                    Tilman Fertitta  \n",
      "   Rank                   Team  Value Revenue EBITDA Debt as % of Value  \\\n",
      "0     1  Golden State Warriors  $9.4B   $781M  $155M                 9%   \n",
      "1     2        New York Knicks  $7.5B   $578M  $178M                 4%   \n",
      "2     3     Los Angeles Lakers    $7B   $528M  $191M                 3%   \n",
      "3     4          Chicago Bulls  $5.8B   $402M  $118M                 3%   \n",
      "4     5        Houston Rockets  $5.7B   $402M  $119M                 4%   \n",
      "\n",
      "                                            Owner(s)  \n",
      "0                             Joe Lacob, Peter Guber  \n",
      "1                       Madison Square Garden Sports  \n",
      "2  Jerry Buss family trust, Mark Walter, Todd Boehly  \n",
      "3                                    Jerry Reinsdorf  \n",
      "4                                    Tilman Fertitta  \n"
     ]
    }
   ],
   "source": [
    "import pandas as pd\n",
    "\n",
    "df = pd.read_csv('CNBC NBA Franchise Valuation.csv')\n",
    "print(df.head())"
   ]
  },
  {
   "cell_type": "code",
   "execution_count": 20,
   "metadata": {},
   "outputs": [
    {
     "name": "stdout",
     "output_type": "stream",
     "text": [
      "   Rank                  Team   Value Revenue EBITDA Debt as % of value  \\\n",
      "0     1        Dallas Cowboys    $11B  $1.22B  $550M                 3%   \n",
      "1     2      Los Angeles Rams     $8B   $825M  $243M                44%   \n",
      "2     3  New England Patriots   $7.9B   $740M  $250M                 3%   \n",
      "3     4       New York Giants  $7.85B   $723M  $185M                 6%   \n",
      "4     5     Las Vegas Raiders   $7.8B   $780M  $115M                18%   \n",
      "\n",
      "                 Owner(s)  \n",
      "0             Jerry Jones  \n",
      "1         Stanley Kroenke  \n",
      "2            Robert Kraft  \n",
      "3  John Mara, Steve Tisch  \n",
      "4              Mark Davis  \n"
     ]
    }
   ],
   "source": [
    "import pandas as pd\n",
    "\n",
    "df = pd.read_csv('CNBC NFL Franchise Values.csv')\n",
    "print(df.head())"
   ]
  }
 ],
 "metadata": {
  "kernelspec": {
   "display_name": "Python 3",
   "language": "python",
   "name": "python3"
  },
  "language_info": {
   "codemirror_mode": {
    "name": "ipython",
    "version": 3
   },
   "file_extension": ".py",
   "mimetype": "text/x-python",
   "name": "python",
   "nbconvert_exporter": "python",
   "pygments_lexer": "ipython3",
   "version": "3.13.0"
  }
 },
 "nbformat": 4,
 "nbformat_minor": 2
}
