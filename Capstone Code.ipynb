{
 "cells": [
  {
   "cell_type": "markdown",
   "metadata": {},
   "source": [
    "The code below is the start of my capstone project"
   ]
  },
  {
   "cell_type": "markdown",
   "metadata": {},
   "source": [
    "The data I am using is from the CNBC Website https://www.cnbc.com/2025/02/14/cnbcs-official-nba-team-valuations-2025.html and https://www.cnbc.com/2024/09/05/official-nfl-team-valuations-2024.html"
   ]
  },
  {
   "cell_type": "code",
   "execution_count": 1,
   "metadata": {},
   "outputs": [
    {
     "name": "stdout",
     "output_type": "stream",
     "text": [
      "Requirement already satisfied: pandas in c:\\users\\kcoll\\appdata\\local\\programs\\python\\python313\\lib\\site-packages (2.2.3)\n",
      "Requirement already satisfied: numpy>=1.26.0 in c:\\users\\kcoll\\appdata\\local\\programs\\python\\python313\\lib\\site-packages (from pandas) (2.1.3)\n",
      "Requirement already satisfied: python-dateutil>=2.8.2 in c:\\users\\kcoll\\appdata\\local\\programs\\python\\python313\\lib\\site-packages (from pandas) (2.9.0.post0)\n",
      "Requirement already satisfied: pytz>=2020.1 in c:\\users\\kcoll\\appdata\\local\\programs\\python\\python313\\lib\\site-packages (from pandas) (2024.2)\n",
      "Requirement already satisfied: tzdata>=2022.7 in c:\\users\\kcoll\\appdata\\local\\programs\\python\\python313\\lib\\site-packages (from pandas) (2024.2)\n",
      "Requirement already satisfied: six>=1.5 in c:\\users\\kcoll\\appdata\\local\\programs\\python\\python313\\lib\\site-packages (from python-dateutil>=2.8.2->pandas) (1.16.0)\n",
      "Note: you may need to restart the kernel to use updated packages.\n"
     ]
    }
   ],
   "source": [
    "pip install pandas\n"
   ]
  },
  {
   "cell_type": "markdown",
   "metadata": {},
   "source": [
    "The code below moved my csv files in to actual dataframes for my code to read"
   ]
  },
  {
   "cell_type": "code",
   "execution_count": 2,
   "metadata": {},
   "outputs": [
    {
     "name": "stdout",
     "output_type": "stream",
     "text": [
      "   Rank                   Team  Value Revenue EBITDA Debt as % of Value  \\\n",
      "0     1  Golden State Warriors  $9.4B   $781M  $155M                 9%   \n",
      "1     2        New York Knicks  $7.5B   $578M  $178M                 4%   \n",
      "2     3     Los Angeles Lakers    $7B   $528M  $191M                 3%   \n",
      "3     4          Chicago Bulls  $5.8B   $402M  $118M                 3%   \n",
      "4     5        Houston Rockets  $5.7B   $402M  $119M                 4%   \n",
      "\n",
      "                                            Owner(s)  \n",
      "0                             Joe Lacob, Peter Guber  \n",
      "1                       Madison Square Garden Sports  \n",
      "2  Jerry Buss family trust, Mark Walter, Todd Boehly  \n",
      "3                                    Jerry Reinsdorf  \n",
      "4                                    Tilman Fertitta  \n",
      "   Rank                  Team   Value Revenue EBITDA Debt as % of value  \\\n",
      "0     1        Dallas Cowboys    $11B  $1.22B  $550M                 3%   \n",
      "1     2      Los Angeles Rams     $8B   $825M  $243M                44%   \n",
      "2     3  New England Patriots   $7.9B   $740M  $250M                 3%   \n",
      "3     4       New York Giants  $7.85B   $723M  $185M                 6%   \n",
      "4     5     Las Vegas Raiders   $7.8B   $780M  $115M                18%   \n",
      "\n",
      "                 Owner(s)  \n",
      "0             Jerry Jones  \n",
      "1         Stanley Kroenke  \n",
      "2            Robert Kraft  \n",
      "3  John Mara, Steve Tisch  \n",
      "4              Mark Davis  \n"
     ]
    }
   ],
   "source": [
    "import pandas as pd\n",
    "\n",
    "df = pd.read_csv('CNBC NBA Franchise Valuation.csv')\n",
    "print(df.head())\n",
    "\n",
    "df1 = pd.read_csv('CNBC NFL Franchise Values.csv')\n",
    "print(df1.head())"
   ]
  },
  {
   "cell_type": "markdown",
   "metadata": {},
   "source": [
    "The code below removed columns that I was not wanting to report on or didn't add any value to my project"
   ]
  },
  {
   "cell_type": "code",
   "execution_count": 3,
   "metadata": {},
   "outputs": [
    {
     "name": "stdout",
     "output_type": "stream",
     "text": [
      "                      Team   Value Revenue\n",
      "0    Golden State Warriors   $9.4B   $781M\n",
      "1          New York Knicks   $7.5B   $578M\n",
      "2       Los Angeles Lakers     $7B   $528M\n",
      "3            Chicago Bulls   $5.8B   $402M\n",
      "4          Houston Rockets   $5.7B   $402M\n",
      "5            Brooklyn Nets   $5.6B   $389M\n",
      "6           Boston Celtics   $5.5B   $452M\n",
      "7     Los Angeles Clippers   $5.4B   $351M\n",
      "8               Miami Heat   $5.1B   $394M\n",
      "9         Dallas Mavericks     $5B   $430M\n",
      "10      Philadelphia 76ers   $4.9B   $394M\n",
      "11            Phoenix Suns   $4.6B   $377M\n",
      "12         Toronto Raptors   $4.5B   $349M\n",
      "13        Sacramento Kings  $4.45B   $425M\n",
      "14     Cleveland Cavaliers  $4.35B   $406M\n",
      "15           Atlanta Hawks   $4.3B   $384M\n",
      "16      Washington Wizards  $4.25B   $357M\n",
      "17          Denver Nuggets   $4.2B   $386M\n",
      "18         Milwaukee Bucks   $4.1B   $350M\n",
      "19               Utah Jazz  $3.75B   $367M\n",
      "20       San Antonio Spurs   $3.7B   $344M\n",
      "21  Portland Trail Blazers  $3.65B   $339M\n",
      "22           Orlando Magic  $3.55B   $317M\n",
      "23   Oklahoma City Thunder   $3.5B   $321M\n",
      "24         Detroit Pistons  $3.45B   $306M\n",
      "25          Indiana Pacers   $3.4B   $339M\n",
      "26       Charlotte Hornets  $3.35B   $304M\n",
      "27    New Orleans Pelicans   $3.3B   $311M\n",
      "28  Minnesota Timberwolves  $3.25B   $328M\n",
      "29       Memphis Grizzlies   $3.2B   $299M\n",
      "                     Team   Value Revenue\n",
      "0          Dallas Cowboys    $11B  $1.22B\n",
      "1        Los Angeles Rams     $8B   $825M\n",
      "2    New England Patriots   $7.9B   $740M\n",
      "3         New York Giants  $7.85B   $723M\n",
      "4       Las Vegas Raiders   $7.8B   $780M\n",
      "5     San Francisco 49ers   $7.4B   $687M\n",
      "6           New York Jets  $7.35B   $677M\n",
      "7          Miami Dolphins   $7.1B   $673M\n",
      "8     Philadelphia Eagles     $7B   $669M\n",
      "9           Chicago Bears   $6.4B   $590M\n",
      "10         Houston Texans  $6.35B   $640M\n",
      "11      Green Bay Packers   $6.3B   $638M\n",
      "12  Washington Commanders  $6.25B   $602M\n",
      "13         Denver Broncos   $6.2B   $613M\n",
      "14       Seattle Seahawks  $6.11B   $600M\n",
      "15        Atlanta Falcons   $6.1B   $625M\n",
      "16    Pittsburgh Steelers  $6.08B   $596M\n",
      "17     Kansas City Chiefs  $6.07B   $590M\n",
      "18      Minnesota Vikings  $6.06B   $587M\n",
      "19   Tampa Bay Buccaneers  $6.05B   $640M\n",
      "20       Baltimore Ravens  $6.03B   $584M\n",
      "21       Cleveland Browns  $6.02B   $581M\n",
      "22       Tennessee Titans  $6.01B   $559M\n",
      "23   Jacksonville Jaguars     $6B   $567M\n",
      "24      Carolina Panthers   $5.9B   $571M\n",
      "25   Los Angeles Chargers  $5.83B   $564M\n",
      "26     Indianapolis Colts   $5.8B   $564M\n",
      "27     New Orleans Saints   $5.5B   $569M\n",
      "28          Detroit Lions   $5.4B   $546M\n",
      "29          Buffalo Bills  $5.35B   $551M\n",
      "30      Arizona Cardinals   $5.3B   $543M\n",
      "31     Cincinnati Bengals  $5.25B   $546M\n"
     ]
    }
   ],
   "source": [
    "df.drop(columns=['EBITDA', 'Debt as % of Value', 'Owner(s)', 'Rank'], inplace=True)\n",
    "\n",
    "print(df)\n",
    "\n",
    "df1.drop(columns=['EBITDA', 'Debt as % of value', 'Owner(s)', 'Rank'], inplace=True)\n",
    "\n",
    "print(df1)"
   ]
  },
  {
   "cell_type": "markdown",
   "metadata": {},
   "source": [
    "The code below allowed me to display my combined dataframe in to more coherent manner for reading"
   ]
  },
  {
   "cell_type": "code",
   "execution_count": 4,
   "metadata": {},
   "outputs": [
    {
     "name": "stdout",
     "output_type": "stream",
     "text": [
      "                      Team   Value Revenue\n",
      "0    Golden State Warriors   $9.4B   $781M\n",
      "1          New York Knicks   $7.5B   $578M\n",
      "2       Los Angeles Lakers     $7B   $528M\n",
      "3            Chicago Bulls   $5.8B   $402M\n",
      "4          Houston Rockets   $5.7B   $402M\n",
      "5            Brooklyn Nets   $5.6B   $389M\n",
      "6           Boston Celtics   $5.5B   $452M\n",
      "7     Los Angeles Clippers   $5.4B   $351M\n",
      "8               Miami Heat   $5.1B   $394M\n",
      "9         Dallas Mavericks     $5B   $430M\n",
      "10      Philadelphia 76ers   $4.9B   $394M\n",
      "11            Phoenix Suns   $4.6B   $377M\n",
      "12         Toronto Raptors   $4.5B   $349M\n",
      "13        Sacramento Kings  $4.45B   $425M\n",
      "14     Cleveland Cavaliers  $4.35B   $406M\n",
      "15           Atlanta Hawks   $4.3B   $384M\n",
      "16      Washington Wizards  $4.25B   $357M\n",
      "17          Denver Nuggets   $4.2B   $386M\n",
      "18         Milwaukee Bucks   $4.1B   $350M\n",
      "19               Utah Jazz  $3.75B   $367M\n",
      "20       San Antonio Spurs   $3.7B   $344M\n",
      "21  Portland Trail Blazers  $3.65B   $339M\n",
      "22           Orlando Magic  $3.55B   $317M\n",
      "23   Oklahoma City Thunder   $3.5B   $321M\n",
      "24         Detroit Pistons  $3.45B   $306M\n",
      "25          Indiana Pacers   $3.4B   $339M\n",
      "26       Charlotte Hornets  $3.35B   $304M\n",
      "27    New Orleans Pelicans   $3.3B   $311M\n",
      "28  Minnesota Timberwolves  $3.25B   $328M\n",
      "29       Memphis Grizzlies   $3.2B   $299M\n",
      "30          Dallas Cowboys    $11B  $1.22B\n",
      "31        Los Angeles Rams     $8B   $825M\n",
      "32    New England Patriots   $7.9B   $740M\n",
      "33         New York Giants  $7.85B   $723M\n",
      "34       Las Vegas Raiders   $7.8B   $780M\n",
      "35     San Francisco 49ers   $7.4B   $687M\n",
      "36           New York Jets  $7.35B   $677M\n",
      "37          Miami Dolphins   $7.1B   $673M\n",
      "38     Philadelphia Eagles     $7B   $669M\n",
      "39           Chicago Bears   $6.4B   $590M\n",
      "40          Houston Texans  $6.35B   $640M\n",
      "41       Green Bay Packers   $6.3B   $638M\n",
      "42   Washington Commanders  $6.25B   $602M\n",
      "43          Denver Broncos   $6.2B   $613M\n",
      "44        Seattle Seahawks  $6.11B   $600M\n",
      "45         Atlanta Falcons   $6.1B   $625M\n",
      "46     Pittsburgh Steelers  $6.08B   $596M\n",
      "47      Kansas City Chiefs  $6.07B   $590M\n",
      "48       Minnesota Vikings  $6.06B   $587M\n",
      "49    Tampa Bay Buccaneers  $6.05B   $640M\n",
      "50        Baltimore Ravens  $6.03B   $584M\n",
      "51        Cleveland Browns  $6.02B   $581M\n",
      "52        Tennessee Titans  $6.01B   $559M\n",
      "53    Jacksonville Jaguars     $6B   $567M\n",
      "54       Carolina Panthers   $5.9B   $571M\n",
      "55    Los Angeles Chargers  $5.83B   $564M\n",
      "56      Indianapolis Colts   $5.8B   $564M\n",
      "57      New Orleans Saints   $5.5B   $569M\n",
      "58           Detroit Lions   $5.4B   $546M\n",
      "59           Buffalo Bills  $5.35B   $551M\n",
      "60       Arizona Cardinals   $5.3B   $543M\n",
      "61      Cincinnati Bengals  $5.25B   $546M\n"
     ]
    }
   ],
   "source": [
    "Franchisevalues = pd.concat([df, df1],  ignore_index=True)\n",
    "pd.set_option('display.max_rows', None)\n",
    "pd.set_option('display.max_columns', None)\n",
    "pd.set_option('display.width', None)\n",
    "print(Franchisevalues)\n"
   ]
  },
  {
   "cell_type": "markdown",
   "metadata": {},
   "source": [
    "The below code is used to convert the values in the \"Value\" column to numerical values.  I then proceeded to perform a couple of calculations to give the user an idea of what they are looking at from an overall perspective"
   ]
  },
  {
   "cell_type": "code",
   "execution_count": 5,
   "metadata": {},
   "outputs": [
    {
     "name": "stdout",
     "output_type": "stream",
     "text": [
      "The Median Value for these franchises is: 4325000000.0\n",
      "The Mean Value for these franchises is: 4658333333.333333\n",
      "The Standard Derivation for these franchises is: 1.9989798850574717e+18\n"
     ]
    }
   ],
   "source": [
    "def convert_to_numeric(value):\n",
    "    value = value.replace('$', '').replace('B', '')\n",
    "    return float(value) * 1e9\n",
    "df['Value'] = df['Value'].apply(convert_to_numeric)\n",
    "median_value = df['Value'].median()\n",
    "\n",
    "print(f\"The Median Value for these franchises is: {median_value}\")\n",
    "\n",
    "mean_value = df['Value'].mean()\n",
    "\n",
    "print(f\"The Mean Value for these franchises is: {mean_value}\")\n",
    "\n",
    "Variance_value = df['Value'].var()\n",
    "\n",
    "print(f\"The Standard Derivation for these franchises is: {Variance_value}\")\n"
   ]
  }
 ],
 "metadata": {
  "kernelspec": {
   "display_name": "Python 3",
   "language": "python",
   "name": "python3"
  },
  "language_info": {
   "codemirror_mode": {
    "name": "ipython",
    "version": 3
   },
   "file_extension": ".py",
   "mimetype": "text/x-python",
   "name": "python",
   "nbconvert_exporter": "python",
   "pygments_lexer": "ipython3",
   "version": "3.13.0"
  }
 },
 "nbformat": 4,
 "nbformat_minor": 2
}
